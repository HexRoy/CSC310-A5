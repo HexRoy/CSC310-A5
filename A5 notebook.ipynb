{
 "cells": [
  {
   "cell_type": "markdown",
   "metadata": {},
   "source": [
    "## CSC310 A5\n",
    "### Geoffroy  + Anthony + Kurtis "
   ]
  },
  {
   "cell_type": "code",
   "execution_count": 1,
   "metadata": {},
   "outputs": [],
   "source": [
    "import pandas as pd\n",
    "import numpy as np\n",
    "from sklearn import tree\n",
    "from sklearn.model_selection import cross_val_score\n",
    "from sklearn.metrics import accuracy_score\n",
    "from sklearn.model_selection import GridSearchCV\n",
    "from treeviz import tree_print\n",
    "from bootstrap import bootstrap\n",
    "\n",
    "# To ignore numpy's furture warnings that clog up the output \n",
    "import warnings\n",
    "warnings.simplefilter(action='ignore', category=FutureWarning)"
   ]
  },
  {
   "cell_type": "markdown",
   "metadata": {},
   "source": [
    "## Setting up the data"
   ]
  },
  {
   "cell_type": "code",
   "execution_count": 2,
   "metadata": {},
   "outputs": [],
   "source": [
    "df = pd.read_csv(\"caesarian.csv\")\n",
    "x = df.drop(['Caesarian'],axis=1)\n",
    "y = df['Caesarian']"
   ]
  },
  {
   "cell_type": "markdown",
   "metadata": {},
   "source": [
    "## 5 Fold"
   ]
  },
  {
   "cell_type": "code",
   "execution_count": 3,
   "metadata": {},
   "outputs": [],
   "source": [
    "model = tree.DecisionTreeClassifier(criterion='entropy', max_depth=2)"
   ]
  },
  {
   "cell_type": "code",
   "execution_count": 4,
   "metadata": {},
   "outputs": [
    {
     "name": "stdout",
     "output_type": "stream",
     "text": [
      "Fold Accuracies: [0.5        0.8125     0.75       0.6        0.46666667]\n",
      "Accuracy: 0.6258333333333334\n"
     ]
    }
   ],
   "source": [
    "scores = cross_val_score(model, x, y, cv=5)\n",
    "print(\"Fold Accuracies: {}\".format(scores))\n",
    "print(\"Accuracy: {}\".format(scores.mean()))"
   ]
  },
  {
   "cell_type": "markdown",
   "metadata": {},
   "source": [
    "## Grid Search"
   ]
  },
  {
   "cell_type": "code",
   "execution_count": 5,
   "metadata": {},
   "outputs": [],
   "source": [
    "model2 = tree.DecisionTreeClassifier()\n",
    "param_grid = {'max_depth': list(range(1,11)),\n",
    "              'criterion': ['entropy', 'gini']\n",
    "              }\n",
    "grid = GridSearchCV(model2, param_grid, cv=5)"
   ]
  },
  {
   "cell_type": "code",
   "execution_count": 6,
   "metadata": {},
   "outputs": [
    {
     "name": "stderr",
     "output_type": "stream",
     "text": [
      "C:\\Users\\geoffroy\\Anaconda3\\lib\\site-packages\\sklearn\\model_selection\\_search.py:841: DeprecationWarning: The default of the `iid` parameter will change from True to False in version 0.22 and will be removed in 0.24. This will change numeric results when test-set sizes are unequal.\n",
      "  DeprecationWarning)\n"
     ]
    },
    {
     "data": {
      "text/plain": [
       "GridSearchCV(cv=5, error_score='raise-deprecating',\n",
       "       estimator=DecisionTreeClassifier(class_weight=None, criterion='gini', max_depth=None,\n",
       "            max_features=None, max_leaf_nodes=None,\n",
       "            min_impurity_decrease=0.0, min_impurity_split=None,\n",
       "            min_samples_leaf=1, min_samples_split=2,\n",
       "            min_weight_fraction_leaf=0.0, presort=False, random_state=None,\n",
       "            splitter='best'),\n",
       "       fit_params=None, iid='warn', n_jobs=None,\n",
       "       param_grid={'max_depth': [1, 2, 3, 4, 5, 6, 7, 8, 9, 10], 'criterion': ['entropy', 'gini']},\n",
       "       pre_dispatch='2*n_jobs', refit=True, return_train_score='warn',\n",
       "       scoring=None, verbose=0)"
      ]
     },
     "execution_count": 6,
     "metadata": {},
     "output_type": "execute_result"
    }
   ],
   "source": [
    "grid.fit(x,y)"
   ]
  },
  {
   "cell_type": "markdown",
   "metadata": {},
   "source": [
    "##### The best parameters found from grid search"
   ]
  },
  {
   "cell_type": "code",
   "execution_count": 7,
   "metadata": {},
   "outputs": [
    {
     "name": "stdout",
     "output_type": "stream",
     "text": [
      "Best parameters: {'criterion': 'gini', 'max_depth': 4}\n"
     ]
    }
   ],
   "source": [
    "print(\"Best parameters: {}\".format(grid.best_params_))\n"
   ]
  },
  {
   "cell_type": "markdown",
   "metadata": {},
   "source": [
    "##### Printing the best model"
   ]
  },
  {
   "cell_type": "code",
   "execution_count": 8,
   "metadata": {},
   "outputs": [
    {
     "name": "stdout",
     "output_type": "stream",
     "text": [
      "Best tree:\n",
      "if Heart Problem =< 0.5: \n",
      "  |then if Age =< 21.5: \n",
      "  |  |then if Age =< 18.5: \n",
      "  |  |  |then if Blood of Pressure =< 0.5: \n",
      "  |  |  |  |then True\n",
      "  |  |  |  |else False\n",
      "  |  |  |else True\n",
      "  |  |else if Delivery number =< 2.5: \n",
      "  |  |  |then if Age =< 31.5: \n",
      "  |  |  |  |then False\n",
      "  |  |  |  |else True\n",
      "  |  |  |else if Delivery time =< 1.0: \n",
      "  |  |  |  |then True\n",
      "  |  |  |  |else False\n",
      "  |else if Blood of Pressure =< 0.5: \n",
      "  |  |then True\n",
      "  |  |else if Blood of Pressure =< 1.5: \n",
      "  |  |  |then if Delivery time =< 0.5: \n",
      "  |  |  |  |then True\n",
      "  |  |  |  |else False\n",
      "  |  |  |else if Delivery time =< 1.5: \n",
      "  |  |  |  |then True\n",
      "  |  |  |  |else False\n",
      "<---------->\n",
      "Tree Depth:  4\n"
     ]
    }
   ],
   "source": [
    "print(\"Best tree:\")\n",
    "tree_print(grid.best_estimator_,x)"
   ]
  },
  {
   "cell_type": "markdown",
   "metadata": {},
   "source": [
    "##### The accuracy"
   ]
  },
  {
   "cell_type": "code",
   "execution_count": 9,
   "metadata": {},
   "outputs": [
    {
     "name": "stdout",
     "output_type": "stream",
     "text": [
      "Accuracy: 0.8076923076923077\n"
     ]
    }
   ],
   "source": [
    "predict_y = grid.best_estimator_.predict(x)\n",
    "actual_y = y\n",
    "print(\"Accuracy: {}\".format(accuracy_score(actual_y, predict_y)))"
   ]
  },
  {
   "cell_type": "markdown",
   "metadata": {},
   "source": [
    "## Confidence Intervals"
   ]
  },
  {
   "cell_type": "code",
   "execution_count": 10,
   "metadata": {},
   "outputs": [],
   "source": [
    "t1 = tree.DecisionTreeClassifier(criterion='entropy', max_depth=4)\n",
    "t2 = tree.DecisionTreeClassifier(criterion='entropy', max_depth=None)"
   ]
  },
  {
   "cell_type": "code",
   "execution_count": 11,
   "metadata": {},
   "outputs": [],
   "source": [
    "import warnings\n",
    "warnings.simplefilter(action='ignore', category=FutureWarning)"
   ]
  },
  {
   "cell_type": "code",
   "execution_count": 12,
   "metadata": {},
   "outputs": [
    {
     "name": "stdout",
     "output_type": "stream",
     "text": [
      "Confidence interval max_depth=4:(0.4375, 0.9375)\n",
      "Confidence interval max_depth=None: (0.6234375000000001, 1.0)\n"
     ]
    }
   ],
   "source": [
    "print(\"Confidence interval max_depth=4:{}\".format(bootstrap(t1,df,'Caesarian')))\n",
    "print(\"Confidence interval max_depth=None: {}\".format(bootstrap(t2,df,'Caesarian')))"
   ]
  },
  {
   "cell_type": "markdown",
   "metadata": {},
   "source": [
    "##### For this dataset the difference is statistically significant "
   ]
  },
  {
   "cell_type": "code",
   "execution_count": null,
   "metadata": {},
   "outputs": [],
   "source": []
  }
 ],
 "metadata": {
  "kernelspec": {
   "display_name": "Python 3",
   "language": "python",
   "name": "python3"
  },
  "language_info": {
   "codemirror_mode": {
    "name": "ipython",
    "version": 3
   },
   "file_extension": ".py",
   "mimetype": "text/x-python",
   "name": "python",
   "nbconvert_exporter": "python",
   "pygments_lexer": "ipython3",
   "version": "3.7.1"
  }
 },
 "nbformat": 4,
 "nbformat_minor": 2
}
